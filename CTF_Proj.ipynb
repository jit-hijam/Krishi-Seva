{
  "cells": [
    {
      "cell_type": "code",
      "execution_count": null,
      "metadata": {
        "id": "PYMBueInt7uy"
      },
      "outputs": [],
      "source": [
        "import pandas as pd\n",
        "from sklearn.model_selection import train_test_split, GridSearchCV\n",
        "from sklearn.ensemble import RandomForestRegressor\n",
        "from sklearn.metrics import mean_squared_error, r2_score\n",
        "from sklearn.preprocessing import StandardScaler"
      ]
    },
    {
      "cell_type": "code",
      "execution_count": null,
      "metadata": {
        "id": "BwxBpXr8t_JC"
      },
      "outputs": [],
      "source": [
        "# Load the dataset\n",
        "data = pd.read_csv('/content/Updated_Crop_Price_Prediction_Dataset.csv')"
      ]
    },
    {
      "cell_type": "code",
      "execution_count": null,
      "metadata": {
        "id": "sEHvCbB6uJSi"
      },
      "outputs": [],
      "source": [
        "# Selecting relevant columns for prediction\n",
        "relevant_columns = [\n",
        "    \"Crop Name\", \"Rainfall (mm)\", \"Temperature (°C)\", \"Humidity (%)\",\n",
        "    \"Soil pH\", \"Irrigation Availability (%)\", \"Fertilizer Type\",\n",
        "    \"Growth per Day (cm/day)\", \"Fertilizer Cost (₹/kg)\"\n",
        "]\n",
        "data_filtered = data[relevant_columns]"
      ]
    },
    {
      "cell_type": "code",
      "execution_count": null,
      "metadata": {
        "id": "jAIpXPDSuL24"
      },
      "outputs": [],
      "source": [
        "# Encoding categorical variables\n",
        "data_encoded = pd.get_dummies(data_filtered, columns=[\"Crop Name\", \"Fertilizer Type\"], drop_first=True)"
      ]
    },
    {
      "cell_type": "code",
      "execution_count": null,
      "metadata": {
        "id": "flX0Yxb5uN8w"
      },
      "outputs": [],
      "source": [
        "# Splitting the data into features and target variable\n",
        "X = data_encoded.drop(columns=[\"Growth per Day (cm/day)\"])\n",
        "y_growth = data_encoded[\"Growth per Day (cm/day)\"]\n"
      ]
    },
    {
      "cell_type": "code",
      "execution_count": null,
      "metadata": {
        "id": "RkjAZqJ2uS0L"
      },
      "outputs": [],
      "source": [
        "# Adding computed targets for water and fertilizer requirements\n",
        "data_encoded['Water Requirement (L/ha)'] = data_encoded['Rainfall (mm)'] * 10  # Example calculation\n",
        "data_encoded['Fertilizer Requirement (kg/ha)'] = data_encoded['Fertilizer Cost (₹/kg)'] * 2  # Example calculation\n",
        "y_water = data_encoded[\"Water Requirement (L/ha)\"]\n",
        "y_fertilizer = data_encoded[\"Fertilizer Requirement (kg/ha)\"]\n"
      ]
    },
    {
      "cell_type": "code",
      "execution_count": null,
      "metadata": {
        "id": "4VsRGRRzuU6K"
      },
      "outputs": [],
      "source": [
        "# Standardizing the features to improve model performance\n",
        "scaler = StandardScaler()\n",
        "X_scaled = scaler.fit_transform(X)\n"
      ]
    },
    {
      "cell_type": "code",
      "execution_count": null,
      "metadata": {
        "id": "8N4xIDeMubG2"
      },
      "outputs": [],
      "source": [
        "# Splitting into training and testing sets\n",
        "X_train_scaled, X_test_scaled, y_growth_train, y_growth_test = train_test_split(X_scaled, y_growth, test_size=0.2, random_state=42)\n",
        "X_train_water, X_test_water, y_water_train, y_water_test = train_test_split(X_scaled, y_water, test_size=0.2, random_state=42)\n",
        "X_train_fertilizer, X_test_fertilizer, y_fertilizer_train, y_fertilizer_test = train_test_split(X_scaled, y_fertilizer, test_size=0.2, random_state=42)"
      ]
    },
    {
      "cell_type": "code",
      "execution_count": null,
      "metadata": {
        "id": "h5Vgz0GkudNH"
      },
      "outputs": [],
      "source": [
        "# Hyperparameter tuning using GridSearchCV\n",
        "param_grid = {\n",
        "    'n_estimators': [100, 200],\n",
        "    'max_depth': [5, 10, 15],\n",
        "    'min_samples_split': [2, 5, 10]\n",
        "}"
      ]
    },
    {
      "cell_type": "code",
      "execution_count": null,
      "metadata": {
        "id": "9f9_1HX1uge5"
      },
      "outputs": [],
      "source": [
        "# Model for growth prediction\n",
        "model_growth = RandomForestRegressor(random_state=42)\n",
        "grid_search_growth = GridSearchCV(model_growth, param_grid, cv=5, scoring='neg_mean_squared_error')\n",
        "grid_search_growth.fit(X_train_scaled, y_growth_train)\n",
        "best_model_growth = grid_search_growth.best_estimator_\n",
        "\n",
        "# Model for water prediction\n",
        "model_water = RandomForestRegressor(random_state=42)\n",
        "grid_search_water = GridSearchCV(model_water, param_grid, cv=5, scoring='neg_mean_squared_error')\n",
        "grid_search_water.fit(X_train_water, y_water_train)\n",
        "best_model_water = grid_search_water.best_estimator_\n",
        "\n",
        "# Model for fertilizer prediction\n",
        "model_fertilizer = RandomForestRegressor(random_state=42)\n",
        "grid_search_fertilizer = GridSearchCV(model_fertilizer, param_grid, cv=5, scoring='neg_mean_squared_error')\n",
        "grid_search_fertilizer.fit(X_train_fertilizer, y_fertilizer_train)\n",
        "best_model_fertilizer = grid_search_fertilizer.best_estimator_"
      ]
    },
    {
      "cell_type": "code",
      "execution_count": null,
      "metadata": {
        "colab": {
          "base_uri": "https://localhost:8080/"
        },
        "id": "ouChKjQJuixI",
        "outputId": "b1011bc8-7baf-443d-9fde-8cfe628eb459"
      },
      "outputs": [
        {
          "output_type": "stream",
          "name": "stdout",
          "text": [
            "Growth Prediction - MSE: 0.15715651585389737 R2: -0.16851291875508068 RMSE: 0.39642971111395947\n",
            "Water Requirement Prediction - MSE: 3372.196476124991 R2: 0.9953370556451456 RMSE: 58.070616288489575\n",
            "Fertilizer Requirement Prediction - MSE: 4.763449173000234 R2: 0.9987937133887964 RMSE: 2.1825327427097707\n"
          ]
        }
      ],
      "source": [
        "# Evaluate models\n",
        "def evaluate_model(model, X_test, y_test):\n",
        "    y_pred = model.predict(X_test)\n",
        "    mse = mean_squared_error(y_test, y_pred)\n",
        "    r2 = r2_score(y_test, y_pred)\n",
        "    rmse = mse ** 0.5\n",
        "    return mse, r2, rmse\n",
        "\n",
        "# Evaluate each model\n",
        "mse_growth, r2_growth, rmse_growth = evaluate_model(best_model_growth, X_test_scaled, y_growth_test)\n",
        "mse_water, r2_water, rmse_water = evaluate_model(best_model_water, X_test_scaled, y_water_test)\n",
        "mse_fertilizer, r2_fertilizer, rmse_fertilizer = evaluate_model(best_model_fertilizer, X_test_scaled, y_fertilizer_test)\n",
        "\n",
        "# Print evaluation results\n",
        "print(\"Growth Prediction - MSE:\", mse_growth, \"R2:\", r2_growth, \"RMSE:\", rmse_growth)\n",
        "print(\"Water Requirement Prediction - MSE:\", mse_water, \"R2:\", r2_water, \"RMSE:\", rmse_water)\n",
        "print(\"Fertilizer Requirement Prediction - MSE:\", mse_fertilizer, \"R2:\", r2_fertilizer, \"RMSE:\", rmse_fertilizer)"
      ]
    },
    {
      "cell_type": "code",
      "execution_count": null,
      "metadata": {
        "id": "D-FP7p6Su66X"
      },
      "outputs": [],
      "source": [
        "# Function for making predictions\n",
        "crop_types = data[\"Crop Name\"].unique()\n",
        "fertilizer_types = data[\"Fertilizer Type\"].unique()\n",
        "\n",
        "def predict_crop_growth_and_requirements(crop_name, rainfall, temperature, humidity, soil_pH, irrigation, fertilizer_type):\n",
        "    input_data = pd.DataFrame({\n",
        "        \"Rainfall (mm)\": [rainfall],\n",
        "        \"Temperature (°C)\": [temperature],\n",
        "        \"Humidity (%)\": [humidity],\n",
        "        \"Soil pH\": [soil_pH],\n",
        "        \"Irrigation Availability (%)\": [irrigation]\n",
        "    })\n",
        "\n",
        "    # One-hot encoding for the crop and fertilizer type\n",
        "    for crop in crop_types:\n",
        "        input_data[f\"Crop Name_{crop}\"] = 1 if crop == crop_name else 0\n",
        "\n",
        "    for fert in fertilizer_types:\n",
        "        input_data[f\"Fertilizer Type_{fert}\"] = 1 if fert == fertilizer_type else 0\n",
        "\n",
        "    # Ensuring column alignment with training data\n",
        "    missing_cols = set(X.columns) - set(input_data.columns)\n",
        "    for col in missing_cols:\n",
        "        input_data[col] = 0\n",
        "\n",
        "    input_data = input_data[X.columns]\n",
        "\n",
        "    # Scaling input features\n",
        "    input_scaled = scaler.transform(input_data)\n",
        "\n",
        "    # Predicting growth per day and converting to cm/month\n",
        "    growth_per_day = best_model_growth.predict(input_scaled)[0]\n",
        "    growth_per_month = growth_per_day * 30\n",
        "\n",
        "    # Predicting water and fertilizer requirements per hectare\n",
        "    water_requirement = best_model_water.predict(input_scaled)[0]\n",
        "    fertilizer_requirement = best_model_fertilizer.predict(input_scaled)[0]\n",
        "\n",
        "    return {\n",
        "        \"Growth per Month (cm)\": round(growth_per_month, 2),\n",
        "        \"Water Requirement (L/ha)\": round(water_requirement, 2),\n",
        "        \"Fertilizer Requirement (kg/ha)\": round(fertilizer_requirement, 2)\n",
        "    }"
      ]
    },
    {
      "cell_type": "code",
      "execution_count": null,
      "metadata": {
        "colab": {
          "base_uri": "https://localhost:8080/"
        },
        "id": "AWRrEHl5u7y6",
        "outputId": "f60567f4-ab27-4d57-a288-d29deb623505"
      },
      "outputs": [
        {
          "output_type": "stream",
          "name": "stdout",
          "text": [
            "Enter the crop name (e.g., Wheat, Rice): maize\n",
            "Enter rainfall in mm: 124\n",
            "Enter temperature in °C: 42\n",
            "Enter humidity in %: 45\n",
            "Enter soil pH level: 7.5\n",
            "Enter irrigation availability in %: 65\n",
            "Enter fertilizer type (e.g., Urea, DAP): urea\n",
            "Predicted Values: {'Growth per Month (cm)': np.float64(33.27), 'Water Requirement (L/ha)': np.float64(1205.3), 'Fertilizer Requirement (kg/ha)': np.float64(25.79)}\n"
          ]
        }
      ],
      "source": [
        "# Dynamic user input\n",
        "crop_name = input(\"Enter the crop name (e.g., Wheat, Rice): \")\n",
        "rainfall = float(input(\"Enter rainfall in mm: \"))\n",
        "temperature = float(input(\"Enter temperature in °C: \"))\n",
        "humidity = float(input(\"Enter humidity in %: \"))\n",
        "soil_pH = float(input(\"Enter soil pH level: \"))\n",
        "irrigation = float(input(\"Enter irrigation availability in %: \"))\n",
        "fertilizer_type = input(\"Enter fertilizer type (e.g., Urea, DAP): \")\n",
        "\n",
        "# Predict based on user input\n",
        "predicted_values = predict_crop_growth_and_requirements(\n",
        "    crop_name=crop_name,\n",
        "    rainfall=rainfall,\n",
        "    temperature=temperature,\n",
        "    humidity=humidity,\n",
        "    soil_pH=soil_pH,\n",
        "    irrigation=irrigation,\n",
        "    fertilizer_type=fertilizer_type\n",
        ")\n",
        "\n",
        "print(\"Predicted Values:\", predicted_values)"
      ]
    },
    {
      "cell_type": "code",
      "execution_count": null,
      "metadata": {
        "id": "QmSwfjKpvR6f"
      },
      "outputs": [],
      "source": []
    }
  ],
  "metadata": {
    "colab": {
      "provenance": []
    },
    "kernelspec": {
      "display_name": "Python 3",
      "name": "python3"
    },
    "language_info": {
      "name": "python"
    }
  },
  "nbformat": 4,
  "nbformat_minor": 0
}